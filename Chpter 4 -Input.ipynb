{
 "cells": [
  {
   "cell_type": "markdown",
   "id": "5b9bb368-797b-4b59-ab00-0fc995fb64f9",
   "metadata": {},
   "source": [
    "## Chaper 4 - Input"
   ]
  },
  {
   "cell_type": "markdown",
   "id": "1c1b5960-1932-4319-b947-681c8a2a2c19",
   "metadata": {},
   "source": [
    "#from Input function we get String\n",
    "x = input ()"
   ]
  },
  {
   "cell_type": "code",
   "execution_count": 1,
   "id": "457a6b45-51cd-41c6-96c6-da844e9ba475",
   "metadata": {},
   "outputs": [
    {
     "data": {
      "text/plain": [
       "5"
      ]
     },
     "execution_count": 1,
     "metadata": {},
     "output_type": "execute_result"
    }
   ],
   "source": [
    "5"
   ]
  },
  {
   "cell_type": "code",
   "execution_count": 2,
   "id": "75da6b04-0d56-43a7-b4b5-ee01bfb4ec0b",
   "metadata": {},
   "outputs": [
    {
     "ename": "NameError",
     "evalue": "name 'x' is not defined",
     "output_type": "error",
     "traceback": [
      "\u001b[1;31m---------------------------------------------------------------------------\u001b[0m",
      "\u001b[1;31mNameError\u001b[0m                                 Traceback (most recent call last)",
      "Cell \u001b[1;32mIn[2], line 1\u001b[0m\n\u001b[1;32m----> 1\u001b[0m \u001b[43mx\u001b[49m\n",
      "\u001b[1;31mNameError\u001b[0m: name 'x' is not defined"
     ]
    }
   ],
   "source": [
    "x"
   ]
  },
  {
   "cell_type": "code",
   "execution_count": 3,
   "id": "00a0fbab-15cb-432b-b042-c47a04296bc5",
   "metadata": {},
   "outputs": [
    {
     "ename": "NameError",
     "evalue": "name 'x' is not defined",
     "output_type": "error",
     "traceback": [
      "\u001b[1;31m---------------------------------------------------------------------------\u001b[0m",
      "\u001b[1;31mNameError\u001b[0m                                 Traceback (most recent call last)",
      "Cell \u001b[1;32mIn[3], line 1\u001b[0m\n\u001b[1;32m----> 1\u001b[0m \u001b[38;5;28mtype\u001b[39m(\u001b[43mx\u001b[49m)\n",
      "\u001b[1;31mNameError\u001b[0m: name 'x' is not defined"
     ]
    }
   ],
   "source": [
    "type(x)"
   ]
  },
  {
   "cell_type": "code",
   "execution_count": 4,
   "id": "846acaaa-7345-4770-84fe-9cc311ad4896",
   "metadata": {},
   "outputs": [
    {
     "ename": "NameError",
     "evalue": "name 'x' is not defined",
     "output_type": "error",
     "traceback": [
      "\u001b[1;31m---------------------------------------------------------------------------\u001b[0m",
      "\u001b[1;31mNameError\u001b[0m                                 Traceback (most recent call last)",
      "Cell \u001b[1;32mIn[4], line 1\u001b[0m\n\u001b[1;32m----> 1\u001b[0m x \u001b[38;5;241m=\u001b[39m \u001b[38;5;28mint\u001b[39m(\u001b[43mx\u001b[49m)\n",
      "\u001b[1;31mNameError\u001b[0m: name 'x' is not defined"
     ]
    }
   ],
   "source": [
    "x = int(x)"
   ]
  },
  {
   "cell_type": "code",
   "execution_count": 5,
   "id": "ff20c45d-b1b6-47b0-a9af-70a97c2eb711",
   "metadata": {},
   "outputs": [],
   "source": [
    "x=5"
   ]
  },
  {
   "cell_type": "code",
   "execution_count": 6,
   "id": "869ed7db-25f9-4622-8237-518a2c971e48",
   "metadata": {
    "scrolled": true
   },
   "outputs": [
    {
     "data": {
      "text/plain": [
       "5"
      ]
     },
     "execution_count": 6,
     "metadata": {},
     "output_type": "execute_result"
    }
   ],
   "source": [
    "x"
   ]
  },
  {
   "cell_type": "code",
   "execution_count": 9,
   "id": "487517d1-6314-46e7-8d7b-e45bf4ce6f78",
   "metadata": {},
   "outputs": [
    {
     "name": "stdin",
     "output_type": "stream",
     "text": [
      "please enter a number 5\n"
     ]
    }
   ],
   "source": [
    "x = int(input('please enter a number'))"
   ]
  },
  {
   "cell_type": "code",
   "execution_count": 10,
   "id": "44c4854c-e285-4ba9-9495-037a15644e26",
   "metadata": {},
   "outputs": [
    {
     "data": {
      "text/plain": [
       "5"
      ]
     },
     "execution_count": 10,
     "metadata": {},
     "output_type": "execute_result"
    }
   ],
   "source": [
    "x"
   ]
  },
  {
   "cell_type": "code",
   "execution_count": 11,
   "id": "8e34e74e-0792-4b20-ada4-bc67f19830be",
   "metadata": {},
   "outputs": [
    {
     "name": "stdin",
     "output_type": "stream",
     "text": [
      " 5\n"
     ]
    }
   ],
   "source": [
    "x = input()"
   ]
  },
  {
   "cell_type": "code",
   "execution_count": 12,
   "id": "17635343-18b6-4e25-92e0-c838b109fdfd",
   "metadata": {},
   "outputs": [
    {
     "data": {
      "text/plain": [
       "'5'"
      ]
     },
     "execution_count": 12,
     "metadata": {},
     "output_type": "execute_result"
    }
   ],
   "source": [
    "x"
   ]
  },
  {
   "cell_type": "code",
   "execution_count": 13,
   "id": "df86c5ed-b3df-48d6-8759-338b716a0e94",
   "metadata": {},
   "outputs": [
    {
     "ename": "SyntaxError",
     "evalue": "cannot assign to expression (729031197.py, line 1)",
     "output_type": "error",
     "traceback": [
      "\u001b[1;36m  Cell \u001b[1;32mIn[13], line 1\u001b[1;36m\u001b[0m\n\u001b[1;33m    x = int(input('please enter a number')) + x = int(input('please enter a number'))\u001b[0m\n\u001b[1;37m        ^\u001b[0m\n\u001b[1;31mSyntaxError\u001b[0m\u001b[1;31m:\u001b[0m cannot assign to expression\n"
     ]
    }
   ],
   "source": [
    "x = int(input('please enter a number')) + x = int(input('please enter a number'))"
   ]
  },
  {
   "cell_type": "code",
   "execution_count": 1,
   "id": "82683ff7-614e-48d8-a220-2d67e03266dd",
   "metadata": {},
   "outputs": [
    {
     "ename": "SyntaxError",
     "evalue": "cannot assign to expression here. Maybe you meant '==' instead of '='? (3947424474.py, line 1)",
     "output_type": "error",
     "traceback": [
      "\u001b[1;36m  Cell \u001b[1;32mIn[1], line 1\u001b[1;36m\u001b[0m\n\u001b[1;33m    x + y = int(input('please enter a number')) + int(input('please enter a number'))\u001b[0m\n\u001b[1;37m    ^\u001b[0m\n\u001b[1;31mSyntaxError\u001b[0m\u001b[1;31m:\u001b[0m cannot assign to expression here. Maybe you meant '==' instead of '='?\n"
     ]
    }
   ],
   "source": [
    "x + y = int(input('please enter a number')) + int(input('please enter a number'))"
   ]
  },
  {
   "cell_type": "code",
   "execution_count": null,
   "id": "db37471d-7c66-4253-b1cc-3243bf8b6d6e",
   "metadata": {},
   "outputs": [],
   "source": [
    "x = int(input('please enter first number'))\n",
    "y = int(input('please enter second number'))"
   ]
  },
  {
   "cell_type": "code",
   "execution_count": 16,
   "id": "1fcfa007-5234-432b-9988-a71274996bb4",
   "metadata": {},
   "outputs": [
    {
     "name": "stdout",
     "output_type": "stream",
     "text": [
      "10+15 = 25\n"
     ]
    }
   ],
   "source": [
    "print(f'{x}+{y} = {x+y}')"
   ]
  },
  {
   "cell_type": "code",
   "execution_count": 17,
   "id": "96e48679-ca8e-4fde-a08b-5cadf25c4ac6",
   "metadata": {},
   "outputs": [
    {
     "name": "stdin",
     "output_type": "stream",
     "text": [
      "Please enter first name Chen\n",
      "Please enter last name Ben Ami\n"
     ]
    }
   ],
   "source": [
    "x = str(input('Please enter first name'))\n",
    "y = str(input('Please enter last name'))"
   ]
  },
  {
   "cell_type": "code",
   "execution_count": 18,
   "id": "c3922e05-837a-4248-9e04-448f38e9c5e8",
   "metadata": {},
   "outputs": [
    {
     "name": "stdout",
     "output_type": "stream",
     "text": [
      "Hi Chen+Ben Ami = ChenBen Ami\n"
     ]
    }
   ],
   "source": [
    "print(f'Hi {x}+{y} = {x+y}')"
   ]
  },
  {
   "cell_type": "code",
   "execution_count": 19,
   "id": "8a8b380e-1c31-478e-b1d0-7aa953549615",
   "metadata": {},
   "outputs": [
    {
     "ename": "SyntaxError",
     "evalue": "unterminated string literal (detected at line 1) (2155737023.py, line 1)",
     "output_type": "error",
     "traceback": [
      "\u001b[1;36m  Cell \u001b[1;32mIn[19], line 1\u001b[1;36m\u001b[0m\n\u001b[1;33m    print(f'Hi {x}+{y})\u001b[0m\n\u001b[1;37m          ^\u001b[0m\n\u001b[1;31mSyntaxError\u001b[0m\u001b[1;31m:\u001b[0m unterminated string literal (detected at line 1)\n"
     ]
    }
   ],
   "source": [
    "print(f'Hi {x}+{y})"
   ]
  },
  {
   "cell_type": "code",
   "execution_count": 20,
   "id": "31035ee0-1e0d-4202-b13b-03b97c006491",
   "metadata": {},
   "outputs": [
    {
     "name": "stdout",
     "output_type": "stream",
     "text": [
      "Hi Chen+Ben Ami\n"
     ]
    }
   ],
   "source": [
    "print(f'Hi {x}+{y}')"
   ]
  },
  {
   "cell_type": "code",
   "execution_count": 21,
   "id": "f74e4197-11c0-4bb4-a9fb-494e08732655",
   "metadata": {},
   "outputs": [
    {
     "name": "stdout",
     "output_type": "stream",
     "text": [
      "Hi Chen Ben Ami\n"
     ]
    }
   ],
   "source": [
    "print(f'Hi {x} {y}')"
   ]
  },
  {
   "cell_type": "code",
   "execution_count": 22,
   "id": "7fcdb1da-8a81-4806-ab16-9688e3cd3ac3",
   "metadata": {},
   "outputs": [
    {
     "name": "stdin",
     "output_type": "stream",
     "text": [
      "Please enter first name Chen\n",
      "Please enter last name Ben Ami\n"
     ]
    }
   ],
   "source": [
    "firstName = input('Please enter first name')\n",
    "lastName = input('Please enter last name')"
   ]
  },
  {
   "cell_type": "code",
   "execution_count": 23,
   "id": "54cc1e4b-77a4-4cd0-9c51-752fe08bd2fe",
   "metadata": {},
   "outputs": [
    {
     "name": "stdout",
     "output_type": "stream",
     "text": [
      "Hi Chen Ben Ami\n"
     ]
    }
   ],
   "source": [
    "print(f'Hi {firstName} {lastName}')"
   ]
  },
  {
   "cell_type": "code",
   "execution_count": null,
   "id": "0ae99fc9-c574-45e0-83f5-3886702da48f",
   "metadata": {},
   "outputs": [],
   "source": []
  }
 ],
 "metadata": {
  "kernelspec": {
   "display_name": "Python 3 (ipykernel)",
   "language": "python",
   "name": "python3"
  },
  "language_info": {
   "codemirror_mode": {
    "name": "ipython",
    "version": 3
   },
   "file_extension": ".py",
   "mimetype": "text/x-python",
   "name": "python",
   "nbconvert_exporter": "python",
   "pygments_lexer": "ipython3",
   "version": "3.11.7"
  }
 },
 "nbformat": 4,
 "nbformat_minor": 5
}
